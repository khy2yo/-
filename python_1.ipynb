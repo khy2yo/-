{
  "nbformat": 4,
  "nbformat_minor": 0,
  "metadata": {
    "colab": {
      "name": "python_1.ipynb",
      "provenance": [],
      "authorship_tag": "ABX9TyMCmZdOpCdGa7c/m+2qqDg7",
      "include_colab_link": true
    },
    "kernelspec": {
      "name": "python3",
      "display_name": "Python 3"
    },
    "language_info": {
      "name": "python"
    }
  },
  "cells": [
    {
      "cell_type": "markdown",
      "metadata": {
        "id": "view-in-github",
        "colab_type": "text"
      },
      "source": [
        "<a href=\"https://colab.research.google.com/github/khy2yo/-/blob/main/python_1.ipynb\" target=\"_parent\"><img src=\"https://colab.research.google.com/assets/colab-badge.svg\" alt=\"Open In Colab\"/></a>"
      ]
    },
    {
      "cell_type": "code",
      "execution_count": 1,
      "metadata": {
        "colab": {
          "base_uri": "https://localhost:8080/"
        },
        "id": "-hmf9AP3J-9q",
        "outputId": "f62e9488-7a08-4568-9d0a-bafe3c536cf0"
      },
      "outputs": [
        {
          "output_type": "stream",
          "name": "stdout",
          "text": [
            "hello world\n"
          ]
        }
      ],
      "source": [
        "print(\"hello world\")"
      ]
    },
    {
      "cell_type": "code",
      "source": [
        "print('hello world')"
      ],
      "metadata": {
        "colab": {
          "base_uri": "https://localhost:8080/"
        },
        "id": "vbj6FDq7KYKG",
        "outputId": "a6a71356-795c-41a7-adfe-8a8c4506ba18"
      },
      "execution_count": 2,
      "outputs": [
        {
          "output_type": "stream",
          "name": "stdout",
          "text": [
            "hello world\n"
          ]
        }
      ]
    },
    {
      "cell_type": "code",
      "source": [
        "print(1+2)"
      ],
      "metadata": {
        "colab": {
          "base_uri": "https://localhost:8080/"
        },
        "id": "1mLdOI0QKc-u",
        "outputId": "96186498-9b53-4144-d0d6-a8a6485be6fa"
      },
      "execution_count": 3,
      "outputs": [
        {
          "output_type": "stream",
          "name": "stdout",
          "text": [
            "3\n"
          ]
        }
      ]
    },
    {
      "cell_type": "code",
      "source": [
        "print(2*3)"
      ],
      "metadata": {
        "colab": {
          "base_uri": "https://localhost:8080/"
        },
        "id": "p5f36iSiKjxj",
        "outputId": "7a0d0a52-2f2a-4ebb-cf0f-096b08a1effe"
      },
      "execution_count": 4,
      "outputs": [
        {
          "output_type": "stream",
          "name": "stdout",
          "text": [
            "6\n"
          ]
        }
      ]
    },
    {
      "cell_type": "code",
      "source": [
        "print(True)"
      ],
      "metadata": {
        "colab": {
          "base_uri": "https://localhost:8080/"
        },
        "id": "tzK-4bnRLIWp",
        "outputId": "394859b3-a300-4625-d6c3-ee061e4066e1"
      },
      "execution_count": 5,
      "outputs": [
        {
          "output_type": "stream",
          "name": "stdout",
          "text": [
            "True\n"
          ]
        }
      ]
    },
    {
      "cell_type": "code",
      "source": [
        "print(False)"
      ],
      "metadata": {
        "colab": {
          "base_uri": "https://localhost:8080/"
        },
        "id": "-nMDjYnQLkr_",
        "outputId": "d251e40b-ca5b-436e-8652-2e67dd0bb503"
      },
      "execution_count": 6,
      "outputs": [
        {
          "output_type": "stream",
          "name": "stdout",
          "text": [
            "False\n"
          ]
        }
      ]
    },
    {
      "cell_type": "code",
      "source": [
        "a=3; b=4; c= a+b; print(c); print(a); print(b)"
      ],
      "metadata": {
        "colab": {
          "base_uri": "https://localhost:8080/"
        },
        "id": "Y75tIHgwLo5-",
        "outputId": "e020b2ab-e618-46b6-e2ac-efdf6909601f"
      },
      "execution_count": 10,
      "outputs": [
        {
          "output_type": "stream",
          "name": "stdout",
          "text": [
            "7\n",
            "3\n",
            "4\n"
          ]
        }
      ]
    },
    {
      "cell_type": "code",
      "source": [
        "a= \"안녕하세요.\"\n",
        "b= \"반갑습니다.\"\n",
        "c= a + b;\n",
        "print(c)"
      ],
      "metadata": {
        "colab": {
          "base_uri": "https://localhost:8080/"
        },
        "id": "8Ako7TuwMSkQ",
        "outputId": "956dd268-b80d-4110-8bab-12e639f793a2"
      },
      "execution_count": 11,
      "outputs": [
        {
          "output_type": "stream",
          "name": "stdout",
          "text": [
            "안녕하세요.반갑습니다.\n"
          ]
        }
      ]
    },
    {
      "cell_type": "code",
      "source": [
        "a = \"안녕하세요.\" ;\n",
        "b= a * 10;\n",
        "print(b)"
      ],
      "metadata": {
        "colab": {
          "base_uri": "https://localhost:8080/"
        },
        "id": "bIrazl8vMouK",
        "outputId": "391faab1-b1da-485c-8ced-53739ef4b24b"
      },
      "execution_count": 12,
      "outputs": [
        {
          "output_type": "stream",
          "name": "stdout",
          "text": [
            "안녕하세요.안녕하세요.안녕하세요.안녕하세요.안녕하세요.안녕하세요.안녕하세요.안녕하세요.안녕하세요.안녕하세요.\n"
          ]
        }
      ]
    },
    {
      "cell_type": "code",
      "source": [
        "print(\"###############\")\n",
        "print( \"# * 15\")"
      ],
      "metadata": {
        "colab": {
          "base_uri": "https://localhost:8080/"
        },
        "id": "5jYGN3XbM4wF",
        "outputId": "2a3f1a7b-4a9c-4c35-abc5-e3617bef25cb"
      },
      "execution_count": 14,
      "outputs": [
        {
          "output_type": "stream",
          "name": "stdout",
          "text": [
            "###############\n",
            "# * 15\n"
          ]
        }
      ]
    },
    {
      "cell_type": "markdown",
      "source": [
        "아버지외 어머니 그리고 삼촌에게 감사한마음을 전하고 싶습니다.\n",
        "아버지에게는 10만원, 어머니에게는 15만원, 삼촌에게는 \"감사합니다.\"\n",
        "변수 : _Father, _Mother, _\n",
        "Uncle"
      ],
      "metadata": {
        "id": "SjyPN7IBTH8k"
      }
    },
    {
      "cell_type": "code",
      "source": [
        "_Father = \"100.000\"\n",
        "_Mother = \"150,000\"\n",
        "_Uncle = \"감사합니다.\"\n",
        "print(\"아버지=\", _Father,\"원\" )\n",
        "print(\"어머니=\", _Mother,\"원\")\n",
        "print( \"삼촌=\", _Uncle)\n",
        "  "
      ],
      "metadata": {
        "colab": {
          "base_uri": "https://localhost:8080/"
        },
        "id": "81YejXMkTjMF",
        "outputId": "f2ed4e29-fdfe-463d-b41d-709cfa08561e"
      },
      "execution_count": 27,
      "outputs": [
        {
          "output_type": "stream",
          "name": "stdout",
          "text": [
            "아버지= 100.000 원\n",
            "어머니= 150,000 원\n",
            "삼촌= 감사합니다.\n"
          ]
        }
      ]
    },
    {
      "cell_type": "markdown",
      "source": [
        "변수의 규칙 : 문자 또는 _로 시작(Father, father, _ father), 문자,숫자,_구성(Father69,father55,father_56). 공백 절대안된다.안쓰는 것이 좋다.특수"
      ],
      "metadata": {
        "id": "I_SmeHvRO9eW"
      }
    },
    {
      "cell_type": "markdown",
      "source": [
        "FATHER,father,MOTHER,mother,_Father,_father,Keyworld(True,False,for,while,if,continue,break.class.....)"
      ],
      "metadata": {
        "id": "MtkeEIABPzCA"
      }
    },
    {
      "cell_type": "markdown",
      "source": [
        "숫자자료형= 숫자,문자자료형=모든 문자들.."
      ],
      "metadata": {
        "id": "kzJDuvUXQfUU"
      }
    },
    {
      "cell_type": "code",
      "source": [
        "a= 2\n",
        "b= \"2\"\n",
        "C= a+ int(b)\n",
        "print(c)"
      ],
      "metadata": {
        "colab": {
          "base_uri": "https://localhost:8080/"
        },
        "id": "Y0YyGxecQlz9",
        "outputId": "81faee44-c3e1-4177-927d-2e573f6d6379"
      },
      "execution_count": 18,
      "outputs": [
        {
          "output_type": "stream",
          "name": "stdout",
          "text": [
            "안녕하세요.반갑습니다.\n"
          ]
        }
      ]
    },
    {
      "cell_type": "markdown",
      "source": [
        "형병환: 정수형을 변환할때 int(), 실수형으로 변환하고자 할때float().\n",
        "문자자료형으로 변환하고자할때 str(),int(float(\"2.5\"))"
      ],
      "metadata": {
        "id": "MMY8ZROUQ_TH"
      }
    },
    {
      "cell_type": "markdown",
      "source": [
        "산술연술자 : +더하기(print(4+3), -빼기(print(2-1), *곱하기(print(54),/나누기(print4/2)),% 나머지 prInt(5 % 2),// 몫 print(6 // 2), 거듭제곱 Print(42)"
      ],
      "metadata": {
        "id": "pKLl6Xb8RcC2"
      }
    }
  ]
}